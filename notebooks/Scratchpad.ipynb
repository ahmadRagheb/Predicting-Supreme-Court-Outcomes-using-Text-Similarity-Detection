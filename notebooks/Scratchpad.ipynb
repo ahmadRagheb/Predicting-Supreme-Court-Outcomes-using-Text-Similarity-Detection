{
 "cells": [
  {
   "cell_type": "code",
   "execution_count": 2,
   "metadata": {
    "ExecuteTime": {
     "end_time": "2017-04-22T14:47:09.192390",
     "start_time": "2017-04-22T10:46:56.587049-04:00"
    },
    "collapsed": false
   },
   "outputs": [
    {
     "name": "stdout",
     "output_type": "stream",
     "text": [
      "\n"
     ]
    }
   ],
   "source": [
    "from tqdm import tnrange, tqdm_notebook\n",
    "from time import sleep\n",
    "\n",
    "for i in tnrange(10, desc='1st loop'):\n",
    "    for j in tqdm_notebook(xrange(100), desc='2nd loop'):\n",
    "        sleep(0.01)"
   ]
  },
  {
   "cell_type": "code",
   "execution_count": 4,
   "metadata": {
    "ExecuteTime": {
     "end_time": "2017-04-22T14:48:32.985244",
     "start_time": "2017-04-22T10:48:32.980509-04:00"
    },
    "collapsed": true
   },
   "outputs": [],
   "source": [
    "import os"
   ]
  },
  {
   "cell_type": "code",
   "execution_count": 14,
   "metadata": {
    "ExecuteTime": {
     "end_time": "2017-04-22T14:59:27.180708",
     "start_time": "2017-04-22T10:59:26.642416-04:00"
    },
    "collapsed": false
   },
   "outputs": [
    {
     "ename": "NameError",
     "evalue": "name 'tqdm' is not defined",
     "output_type": "error",
     "traceback": [
      "\u001b[0;31m---------------------------------------------------------------------------\u001b[0m",
      "\u001b[0;31mNameError\u001b[0m                                 Traceback (most recent call last)",
      "\u001b[0;32m<ipython-input-14-3de17ff45d97>\u001b[0m in \u001b[0;36m<module>\u001b[0;34m()\u001b[0m\n\u001b[1;32m      1\u001b[0m \u001b[0;32mfor\u001b[0m \u001b[0mroot\u001b[0m\u001b[0;34m,\u001b[0m \u001b[0mdirs\u001b[0m\u001b[0;34m,\u001b[0m \u001b[0mfiles\u001b[0m \u001b[0;32min\u001b[0m \u001b[0mos\u001b[0m\u001b[0;34m.\u001b[0m\u001b[0mwalk\u001b[0m\u001b[0;34m(\u001b[0m\u001b[0;34m'/Users/shiv/Desktop/circuit-scbd-mapped-files/'\u001b[0m\u001b[0;34m,\u001b[0m \u001b[0mtopdown\u001b[0m\u001b[0;34m=\u001b[0m\u001b[0mFalse\u001b[0m\u001b[0;34m)\u001b[0m\u001b[0;34m:\u001b[0m\u001b[0;34m\u001b[0m\u001b[0m\n\u001b[0;32m----> 2\u001b[0;31m     \u001b[0;32mfor\u001b[0m \u001b[0midx\u001b[0m\u001b[0;34m,\u001b[0m\u001b[0mname\u001b[0m \u001b[0;32min\u001b[0m \u001b[0menumerate\u001b[0m\u001b[0;34m(\u001b[0m\u001b[0mtqdm\u001b[0m\u001b[0;34m(\u001b[0m\u001b[0mfiles\u001b[0m\u001b[0;34m)\u001b[0m\u001b[0;34m)\u001b[0m\u001b[0;34m:\u001b[0m\u001b[0;34m\u001b[0m\u001b[0m\n\u001b[0m\u001b[1;32m      3\u001b[0m         \u001b[0;32mprint\u001b[0m \u001b[0mname\u001b[0m\u001b[0;34m\u001b[0m\u001b[0m\n\u001b[1;32m      4\u001b[0m         \u001b[0msleep\u001b[0m\u001b[0;34m(\u001b[0m\u001b[0;36m10\u001b[0m\u001b[0;34m)\u001b[0m\u001b[0;34m\u001b[0m\u001b[0m\n",
      "\u001b[0;31mNameError\u001b[0m: name 'tqdm' is not defined"
     ]
    }
   ],
   "source": [
    "for root, dirs, files in os.walk('/Users/shiv/Desktop/circuit-scbd-mapped-files/', topdown=False):\n",
    "    for idx,name in enumerate(tqdm(files)):\n",
    "        print name\n",
    "        sleep(10)"
   ]
  }
 ],
 "metadata": {
  "hide_input": false,
  "kernelspec": {
   "display_name": "coding-env",
   "language": "python",
   "name": "gl-env"
  },
  "language_info": {
   "codemirror_mode": {
    "name": "ipython",
    "version": 2
   },
   "file_extension": ".py",
   "mimetype": "text/x-python",
   "name": "python",
   "nbconvert_exporter": "python",
   "pygments_lexer": "ipython2",
   "version": "2.7.13"
  },
  "widgets": {
   "state": {
    "0d8a9d73101b4ea5babaf612cb0d875e": {
     "views": [
      {
       "cell_index": 0
      }
     ]
    },
    "1efe4fe0b1a54ce487f2df5bfb1d1f9e": {
     "views": [
      {
       "cell_index": 0
      }
     ]
    },
    "36f9c8d701564b6fb78bb4eb1fef8275": {
     "views": [
      {
       "cell_index": 0
      }
     ]
    },
    "412630dd52d344ea8c59d009bcd09cba": {
     "views": [
      {
       "cell_index": 0
      }
     ]
    },
    "79bc6441da1c47dda926539a1b9ca256": {
     "views": [
      {
       "cell_index": 0
      }
     ]
    },
    "aebffcdbb9bb4e699e24145593c6c76a": {
     "views": [
      {
       "cell_index": 0
      }
     ]
    },
    "c41bf2f4f4684456916e7c074df55c13": {
     "views": [
      {
       "cell_index": 0
      }
     ]
    },
    "cae454a5787448bb89f88c177e1df876": {
     "views": [
      {
       "cell_index": 0
      }
     ]
    },
    "ceb9b0e71c744ce4b56f948df86224ca": {
     "views": [
      {
       "cell_index": 0
      }
     ]
    },
    "d4ad233d8e964437baaec48c9a6b7235": {
     "views": [
      {
       "cell_index": 0
      }
     ]
    },
    "f0b7f6075a8e4412a79f81a38cdc5bec": {
     "views": [
      {
       "cell_index": 0
      }
     ]
    }
   },
   "version": "1.2.0"
  }
 },
 "nbformat": 4,
 "nbformat_minor": 2
}
