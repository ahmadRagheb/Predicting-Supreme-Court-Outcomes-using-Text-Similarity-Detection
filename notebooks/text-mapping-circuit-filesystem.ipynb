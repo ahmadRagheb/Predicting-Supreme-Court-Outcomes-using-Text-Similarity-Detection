{
 "cells": [
  {
   "cell_type": "markdown",
   "metadata": {},
   "source": [
    "### This file copies circuit court bloomberg text to folder circuit-scbd-mapped-files which have supreme court case associated."
   ]
  },
  {
   "cell_type": "code",
   "execution_count": 1,
   "metadata": {
    "ExecuteTime": {
     "end_time": "2017-04-22T14:50:06.267735",
     "start_time": "2017-04-22T10:49:57.541919-04:00"
    },
    "collapsed": true
   },
   "outputs": [],
   "source": [
    "import pandas as pd\n",
    "import pickle\n",
    "import sys"
   ]
  },
  {
   "cell_type": "code",
   "execution_count": 9,
   "metadata": {
    "ExecuteTime": {
     "end_time": "2017-04-22T15:04:14.475828",
     "start_time": "2017-04-22T11:04:14.173340-04:00"
    },
    "collapsed": false
   },
   "outputs": [],
   "source": [
    "circuit_files = pd.read_csv('/Users/shiv/.bin/10_scotus/sc_lc_link.csv')"
   ]
  },
  {
   "cell_type": "code",
   "execution_count": 10,
   "metadata": {
    "ExecuteTime": {
     "end_time": "2017-04-22T15:07:32.468940",
     "start_time": "2017-04-22T11:04:16.995115-04:00"
    },
    "collapsed": false
   },
   "outputs": [
    {
     "name": "stdout",
     "output_type": "stream",
     "text": [
      "[Errno 2] No such file or directory: '/Users/shiv/Desktop/cleaned_Mar_28_python2/2008/maj/X17CJ3A003-maj.p'\n",
      "[Errno 2] No such file or directory: '/Users/shiv/Desktop/cleaned_Mar_28_python2/1995/maj/X3MRHC-maj.p'\n",
      "[Errno 2] No such file or directory: '/Users/shiv/Desktop/cleaned_Mar_28_python2/1992/maj/X544T6-maj.p'\n",
      "[Errno 2] No such file or directory: '/Users/shiv/Desktop/cleaned_Mar_28_python2/2004/maj/X6CQE4-maj.p'\n",
      "[Errno 2] No such file or directory: '/Users/shiv/Desktop/cleaned_Mar_28_python2/1958/maj/X442N1-maj.p'\n",
      "[Errno 2] No such file or directory: '/Users/shiv/Desktop/cleaned_Mar_28_python2/1966/maj/X9VGST-maj.p'\n",
      "[Errno 2] No such file or directory: '/Users/shiv/Desktop/cleaned_Mar_28_python2/1975/maj/X3U2VU-maj.p'\n",
      "[Errno 2] No such file or directory: '/Users/shiv/Desktop/cleaned_Mar_28_python2/1959/maj/X3RUK0-maj.p'\n",
      "[Errno 2] No such file or directory: '/Users/shiv/Desktop/cleaned_Mar_28_python2/1993/maj/X3ADNK-maj.p'\n",
      "[Errno 2] No such file or directory: '/Users/shiv/Desktop/cleaned_Mar_28_python2/2012/maj/X1EU59K003-maj.p'\n",
      "[Errno 2] No such file or directory: '/Users/shiv/Desktop/cleaned_Mar_28_python2/1950/maj/X447K1-maj.p'\n",
      "[Errno 2] No such file or directory: '/Users/shiv/Desktop/cleaned_Mar_28_python2/1977/maj/X3OAU0-maj.p'\n",
      "[Errno 2] No such file or directory: '/Users/shiv/Desktop/cleaned_Mar_28_python2/2001/maj/X3FLU1-maj.p'\n",
      "[Errno 2] No such file or directory: '/Users/shiv/Desktop/cleaned_Mar_28_python2/1969/maj/X3T8HT-maj.p'\n",
      "[Errno 2] No such file or directory: '/Users/shiv/Desktop/cleaned_Mar_28_python2/2012/maj/X1GOU6G003-maj.p'\n",
      "[Errno 2] No such file or directory: '/Users/shiv/Desktop/cleaned_Mar_28_python2/2003/maj/XE7HO3-maj.p'\n",
      "[Errno 2] No such file or directory: '/Users/shiv/Desktop/cleaned_Mar_28_python2/1971/maj/X3GTJR-maj.p'\n",
      "[Errno 2] No such file or directory: '/Users/shiv/Desktop/cleaned_Mar_28_python2/2012/maj/X1FLLP8003-maj.p'\n",
      "[Errno 2] No such file or directory: '/Users/shiv/Desktop/cleaned_Mar_28_python2/1990/maj/X3IF9J-maj.p'\n",
      "[Errno 2] No such file or directory: '/Users/shiv/Desktop/cleaned_Mar_28_python2/1990/maj/X5401R-maj.p'\n",
      "[Errno 2] No such file or directory: '/Users/shiv/Desktop/cleaned_Mar_28_python2/1992/maj/X31VNG-maj.p'\n",
      "[Errno 2] No such file or directory: '/Users/shiv/Desktop/cleaned_Mar_28_python2/1975/maj/X42N97-maj.p'\n",
      "[Errno 2] No such file or directory: '/Users/shiv/Desktop/cleaned_Mar_28_python2/1986/maj/XABPUP-maj.p'\n",
      "[Errno 2] No such file or directory: '/Users/shiv/Desktop/cleaned_Mar_28_python2/2003/maj/X6B6JU-maj.p'\n",
      "[Errno 2] No such file or directory: '/Users/shiv/Desktop/cleaned_Mar_28_python2/1997/maj/X369JI-maj.p'\n",
      "[Errno 2] No such file or directory: '/Users/shiv/Desktop/cleaned_Mar_28_python2/1974/maj/X45MQV-maj.p'\n",
      "[Errno 2] No such file or directory: '/Users/shiv/Desktop/cleaned_Mar_28_python2/2009/maj/X19E9QA003-maj.p'\n",
      "[Errno 2] No such file or directory: '/Users/shiv/Desktop/cleaned_Mar_28_python2/2010/maj/X1BR3N4003-maj.p'\n",
      "[Errno 2] No such file or directory: '/Users/shiv/Desktop/cleaned_Mar_28_python2/2006/maj/X12H79G003-maj.p'\n",
      "[Errno 2] No such file or directory: '/Users/shiv/Desktop/cleaned_Mar_28_python2/2004/maj/X6COUV-maj.p'\n",
      "[Errno 2] No such file or directory: '/Users/shiv/Desktop/cleaned_Mar_28_python2/2005/maj/XARF60-maj.p'\n",
      "[Errno 2] No such file or directory: '/Users/shiv/Desktop/cleaned_Mar_28_python2/1965/maj/X3LPNK-maj.p'\n",
      "[Errno 2] No such file or directory: '/Users/shiv/Desktop/cleaned_Mar_28_python2/1967/maj/X3SQRK-maj.p'\n",
      "[Errno 2] No such file or directory: '/Users/shiv/Desktop/cleaned_Mar_28_python2/1968/maj/X49DRK-maj.p'\n",
      "[Errno 2] No such file or directory: '/Users/shiv/Desktop/cleaned_Mar_28_python2/1991/maj/X3II5U-maj.p'\n",
      "[Errno 2] No such file or directory: '/Users/shiv/Desktop/cleaned_Mar_28_python2/1978/maj/X3OJU4-maj.p'\n",
      "[Errno 2] No such file or directory: '/Users/shiv/Desktop/cleaned_Mar_28_python2/1973/maj/X3TOI7-maj.p'\n",
      "[Errno 2] No such file or directory: '/Users/shiv/Desktop/cleaned_Mar_28_python2/1984/maj/X4A0UT-maj.p'\n",
      "[Errno 2] No such file or directory: '/Users/shiv/Desktop/cleaned_Mar_28_python2/1975/maj/X3TS5D-maj.p'\n",
      "[Errno 2] No such file or directory: '/Users/shiv/Desktop/cleaned_Mar_28_python2/1981/maj/X3P7G5-maj.p'\n",
      "[Errno 2] No such file or directory: '/Users/shiv/Desktop/cleaned_Mar_28_python2/1967/maj/X3SSKO-maj.p'\n",
      "[Errno 2] No such file or directory: '/Users/shiv/Desktop/cleaned_Mar_28_python2/1980/maj/X3P5SE-maj.p'\n",
      "[Errno 2] No such file or directory: '/Users/shiv/Desktop/cleaned_Mar_28_python2/1983/maj/X3P9AB-maj.p'\n",
      "[Errno 2] No such file or directory: '/Users/shiv/Desktop/cleaned_Mar_28_python2/1997/maj/X53M4A-maj.p'\n",
      "[Errno 2] No such file or directory: '/Users/shiv/Desktop/cleaned_Mar_28_python2/1971/maj/X3MV7N-maj.p'\n",
      "[Errno 2] No such file or directory: '/Users/shiv/Desktop/cleaned_Mar_28_python2/1980/maj/X2V5FT-maj.p'\n",
      "[Errno 2] No such file or directory: '/Users/shiv/Desktop/cleaned_Mar_28_python2/1946/maj/X3BREN-maj.p'\n",
      "[Errno 2] No such file or directory: '/Users/shiv/Desktop/cleaned_Mar_28_python2/1972/maj/X3TLUU-maj.p'\n",
      "[Errno 2] No such file or directory: '/Users/shiv/Desktop/cleaned_Mar_28_python2/1972/maj/X42F45-maj.p'\n",
      "[Errno 2] No such file or directory: '/Users/shiv/Desktop/cleaned_Mar_28_python2/2006/maj/X13JKD0003-maj.p'\n",
      "[Errno 2] No such file or directory: '/Users/shiv/Desktop/cleaned_Mar_28_python2/2012/maj/X1GNRCA003-maj.p'\n",
      "[Errno 2] No such file or directory: '/Users/shiv/Desktop/cleaned_Mar_28_python2/2008/maj/X17JD92003-maj.p'\n",
      "[Errno 2] No such file or directory: '/Users/shiv/Desktop/cleaned_Mar_28_python2/1983/maj/XABL4O-maj.p'\n",
      "[Errno 2] No such file or directory: '/Users/shiv/Desktop/cleaned_Mar_28_python2/1956/maj/X41EN1-maj.p'\n",
      "[Errno 2] No such file or directory: '/Users/shiv/Desktop/cleaned_Mar_28_python2/1998/maj/X36FAN-maj.p'\n",
      "[Errno 2] No such file or directory: '/Users/shiv/Desktop/cleaned_Mar_28_python2/1957/maj/X3E0TC-maj.p'\n",
      "[Errno 2] No such file or directory: '/Users/shiv/Desktop/cleaned_Mar_28_python2/1977/maj/X3U7JL-maj.p'\n",
      "[Errno 2] No such file or directory: '/Users/shiv/Desktop/cleaned_Mar_28_python2/1964/maj/X420VP-maj.p'\n",
      "[Errno 2] No such file or directory: '/Users/shiv/Desktop/cleaned_Mar_28_python2/1964/maj/X49BFV-maj.p'\n",
      "[Errno 2] No such file or directory: '/Users/shiv/Desktop/cleaned_Mar_28_python2/1975/maj/X42LFR-maj.p'\n",
      "[Errno 2] No such file or directory: '/Users/shiv/Desktop/cleaned_Mar_28_python2/1981/maj/X2V9J8-maj.p'\n",
      "[Errno 2] No such file or directory: '/Users/shiv/Desktop/cleaned_Mar_28_python2/2009/maj/X19E9OA003-maj.p'\n",
      "[Errno 2] No such file or directory: '/Users/shiv/Desktop/cleaned_Mar_28_python2/1952/maj/X44CAP-maj.p'\n",
      "[Errno 2] No such file or directory: '/Users/shiv/Desktop/cleaned_Mar_28_python2/1946/maj/X40KRH-maj.p'\n",
      "[Errno 2] No such file or directory: '/Users/shiv/Desktop/cleaned_Mar_28_python2/1981/maj/X2NP0H-maj.p'\n",
      "[Errno 2] No such file or directory: '/Users/shiv/Desktop/cleaned_Mar_28_python2/2012/maj/X1GLH6U003-maj.p'\n",
      "[Errno 2] No such file or directory: '/Users/shiv/Desktop/cleaned_Mar_28_python2/2012/maj/X1GN7T8003-maj.p'\n",
      "[Errno 2] No such file or directory: '/Users/shiv/Desktop/cleaned_Mar_28_python2/1986/maj/X4A9HT-maj.p'\n",
      "[Errno 2] No such file or directory: '/Users/shiv/Desktop/cleaned_Mar_28_python2/1982/maj/X3PAGN-maj.p'\n",
      "[Errno 2] No such file or directory: '/Users/shiv/Desktop/cleaned_Mar_28_python2/1985/maj/X4A7IT-maj.p'\n",
      "[Errno 2] No such file or directory: '/Users/shiv/Desktop/cleaned_Mar_28_python2/1984/maj/XABMAO-maj.p'\n",
      "[Errno 2] No such file or directory: '/Users/shiv/Desktop/cleaned_Mar_28_python2/1986/maj/XABPJV-maj.p'\n",
      "[Errno 2] No such file or directory: '/Users/shiv/Desktop/cleaned_Mar_28_python2/1967/maj/X3ST2M-maj.p'\n",
      "[Errno 2] No such file or directory: '/Users/shiv/Desktop/cleaned_Mar_28_python2/1969/maj/X3T797-maj.p'\n",
      "[Errno 2] No such file or directory: '/Users/shiv/Desktop/cleaned_Mar_28_python2/1982/maj/X3PAGP-maj.p'\n",
      "[Errno 2] No such file or directory: '/Users/shiv/Desktop/cleaned_Mar_28_python2/2003/maj/X17NGVQNB5G0-maj.p'\n",
      "[Errno 2] No such file or directory: '/Users/shiv/Desktop/cleaned_Mar_28_python2/2008/maj/X1851VO003-maj.p'\n",
      "[Errno 2] No such file or directory: '/Users/shiv/Desktop/cleaned_Mar_28_python2/1979/maj/XA6TCO-maj.p'\n",
      "[Errno 2] No such file or directory: '/Users/shiv/Desktop/cleaned_Mar_28_python2/1997/maj/X32DQJ-maj.p'\n",
      "[Errno 2] No such file or directory: '/Users/shiv/Desktop/cleaned_Mar_28_python2/1946/maj/X4432Q-maj.p'\n",
      "[Errno 2] No such file or directory: '/Users/shiv/Desktop/cleaned_Mar_28_python2/2009/maj/X18S8BK003-maj.p'\n",
      "[Errno 2] No such file or directory: '/Users/shiv/Desktop/cleaned_Mar_28_python2/1986/maj/XABPTV-maj.p'\n",
      "[Errno 2] No such file or directory: '/Users/shiv/Desktop/cleaned_Mar_28_python2/2008/maj/X173BBI003-maj.p'\n",
      "[Errno 2] No such file or directory: '/Users/shiv/Desktop/cleaned_Mar_28_python2/1990/maj/X2NTN5-maj.p'\n",
      "[Errno 2] No such file or directory: '/Users/shiv/Desktop/cleaned_Mar_28_python2/1988/maj/XAFI2R-maj.p'\n",
      "[Errno 2] No such file or directory: '/Users/shiv/Desktop/cleaned_Mar_28_python2/2010/maj/X1AVUN0003-maj.p'\n",
      "[Errno 2] No such file or directory: '/Users/shiv/Desktop/cleaned_Mar_28_python2/1977/maj/X3U7EN-maj.p'\n",
      "[Errno 2] No such file or directory: '/Users/shiv/Desktop/cleaned_Mar_28_python2/1981/maj/X3P8M2-maj.p'\n",
      "[Errno 2] No such file or directory: '/Users/shiv/Desktop/cleaned_Mar_28_python2/1987/maj/XABUCR-maj.p'\n",
      "[Errno 2] No such file or directory: '/Users/shiv/Desktop/cleaned_Mar_28_python2/1997/maj/X3POTO-maj.p'\n",
      "[Errno 2] No such file or directory: '/Users/shiv/Desktop/cleaned_Mar_28_python2/2012/maj/X1F6OQC003-maj.p'\n",
      "[Errno 2] No such file or directory: '/Users/shiv/Desktop/cleaned_Mar_28_python2/1991/maj/X3II6K-maj.p'\n",
      "[Errno 2] No such file or directory: '/Users/shiv/Desktop/cleaned_Mar_28_python2/2012/maj/X1FM7GO003-maj.p'\n",
      "[Errno 2] No such file or directory: '/Users/shiv/Desktop/cleaned_Mar_28_python2/1981/maj/XABE67-maj.p'\n",
      "[Errno 2] No such file or directory: '/Users/shiv/Desktop/cleaned_Mar_28_python2/1997/maj/X4OO8E-maj.p'\n",
      "[Errno 2] No such file or directory: '"
     ]
    },
    {
     "data": {
      "text/html": [
       "<b>limit_output extension: Maximum message size of 10000 exceeded with 10066 characters</b>"
      ]
     },
     "metadata": {},
     "output_type": "display_data"
    },
    {
     "ename": "KeyboardInterrupt",
     "evalue": "",
     "output_type": "error",
     "traceback": [
      "\u001b[0;31m---------------------------------------------------------------------------\u001b[0m",
      "\u001b[0;31mKeyboardInterrupt\u001b[0m                         Traceback (most recent call last)",
      "\u001b[0;32m<ipython-input-10-cd0a5c2e1990>\u001b[0m in \u001b[0;36m<module>\u001b[0;34m()\u001b[0m\n\u001b[1;32m      3\u001b[0m     \u001b[0mpath\u001b[0m \u001b[0;34m=\u001b[0m  \u001b[0;34m'/Users/shiv/Desktop/cleaned_Mar_28_python2/'\u001b[0m \u001b[0;34m+\u001b[0m \u001b[0mstr\u001b[0m\u001b[0;34m(\u001b[0m\u001b[0mterm\u001b[0m\u001b[0;34m)\u001b[0m \u001b[0;34m+\u001b[0m \u001b[0;34m'/maj/'\u001b[0m\u001b[0;34m+\u001b[0m\u001b[0mfile\u001b[0m\u001b[0;34m+\u001b[0m\u001b[0;34m\"-maj.p\"\u001b[0m\u001b[0;34m\u001b[0m\u001b[0m\n\u001b[1;32m      4\u001b[0m     \u001b[0;32mtry\u001b[0m\u001b[0;34m:\u001b[0m\u001b[0;34m\u001b[0m\u001b[0m\n\u001b[0;32m----> 5\u001b[0;31m         \u001b[0;32mwith\u001b[0m \u001b[0mopen\u001b[0m\u001b[0;34m(\u001b[0m\u001b[0mpath\u001b[0m\u001b[0;34m,\u001b[0m \u001b[0;34m\"rb\"\u001b[0m\u001b[0;34m)\u001b[0m \u001b[0;32mas\u001b[0m \u001b[0mf\u001b[0m\u001b[0;34m:\u001b[0m\u001b[0;34m\u001b[0m\u001b[0m\n\u001b[0m\u001b[1;32m      6\u001b[0m             \u001b[0mw\u001b[0m \u001b[0;34m=\u001b[0m \u001b[0mpickle\u001b[0m\u001b[0;34m.\u001b[0m\u001b[0mload\u001b[0m\u001b[0;34m(\u001b[0m\u001b[0mf\u001b[0m\u001b[0;34m)\u001b[0m\u001b[0;34m\u001b[0m\u001b[0m\n\u001b[1;32m      7\u001b[0m             \u001b[0mpickle\u001b[0m\u001b[0;34m.\u001b[0m\u001b[0mdump\u001b[0m\u001b[0;34m(\u001b[0m\u001b[0mw\u001b[0m\u001b[0;34m,\u001b[0m \u001b[0mopen\u001b[0m\u001b[0;34m(\u001b[0m\u001b[0;34m'/Users/shiv/Desktop/circuit-scbd-mapped-files/'\u001b[0m\u001b[0;34m+\u001b[0m\u001b[0mfile\u001b[0m\u001b[0;34m+\u001b[0m\u001b[0;34m'.p'\u001b[0m\u001b[0;34m,\u001b[0m\u001b[0;34m\"wb\"\u001b[0m\u001b[0;34m)\u001b[0m\u001b[0;34m,\u001b[0m \u001b[0mprotocol\u001b[0m\u001b[0;34m=\u001b[0m\u001b[0;36m2\u001b[0m\u001b[0;34m)\u001b[0m\u001b[0;34m\u001b[0m\u001b[0m\n",
      "\u001b[0;31mKeyboardInterrupt\u001b[0m: "
     ]
    }
   ],
   "source": [
    "count = 0\n",
    "for file,term in zip(circuit_files['caseid'],circuit_files['term']):\n",
    "    path =  '/Users/shiv/Desktop/cleaned_Mar_28_python2/' + str(term) + '/maj/'+file+\"-maj.p\"\n",
    "    try:\n",
    "        with open(path, \"rb\") as f:\n",
    "            w = pickle.load(f)\n",
    "            pickle.dump(w, open('/Users/shiv/Desktop/circuit-scbd-mapped-files/'+file+'.p',\"wb\"), protocol=2)\n",
    "    except Exception as e:\n",
    "        count = count + 1\n",
    "        print e"
   ]
  },
  {
   "cell_type": "code",
   "execution_count": 7,
   "metadata": {
    "ExecuteTime": {
     "end_time": "2017-04-22T14:54:35.382716",
     "start_time": "2017-04-22T10:54:35.376932-04:00"
    },
    "collapsed": false
   },
   "outputs": [
    {
     "name": "stdout",
     "output_type": "stream",
     "text": [
      "18856\n"
     ]
    }
   ],
   "source": [
    "print count"
   ]
  }
 ],
 "metadata": {
  "hide_input": false,
  "kernelspec": {
   "display_name": "coding-env",
   "language": "python",
   "name": "gl-env"
  },
  "language_info": {
   "codemirror_mode": {
    "name": "ipython",
    "version": 2
   },
   "file_extension": ".py",
   "mimetype": "text/x-python",
   "name": "python",
   "nbconvert_exporter": "python",
   "pygments_lexer": "ipython2",
   "version": "2.7.13"
  },
  "toc": {
   "colors": {
    "hover_highlight": "#DAA520",
    "running_highlight": "#FF0000",
    "selected_highlight": "#FFD700"
   },
   "moveMenuLeft": true,
   "nav_menu": {
    "height": "12px",
    "width": "252px"
   },
   "navigate_menu": true,
   "number_sections": true,
   "sideBar": true,
   "threshold": 4,
   "toc_cell": false,
   "toc_section_display": "block",
   "toc_window_display": false
  }
 },
 "nbformat": 4,
 "nbformat_minor": 2
}
