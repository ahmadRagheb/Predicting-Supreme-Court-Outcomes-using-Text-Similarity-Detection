{
 "cells": [
  {
   "cell_type": "code",
   "execution_count": null,
   "metadata": {
    "ExecuteTime": {
     "end_time": "2017-04-22T14:17:55.525629",
     "start_time": "2017-04-22T10:17:51.795492-04:00"
    },
    "collapsed": true
   },
   "outputs": [],
   "source": [
    "import pandas as pd\n",
    "import pickle\n",
    "import sys"
   ]
  },
  {
   "cell_type": "code",
   "execution_count": null,
   "metadata": {
    "ExecuteTime": {
     "end_time": "2017-04-22T14:17:57.576659",
     "start_time": "2017-04-22T10:17:57.361351-04:00"
    },
    "collapsed": true
   },
   "outputs": [],
   "source": [
    "circuit_files = pd.read_csv('/Users/shiv/.bin/10_scotus/sc_lc_link.csv')"
   ]
  },
  {
   "cell_type": "code",
   "execution_count": null,
   "metadata": {
    "ExecuteTime": {
     "start_time": "2017-04-22T14:17:58.616Z"
    },
    "collapsed": false
   },
   "outputs": [],
   "source": [
    "count = 0\n",
    "for file,term in zip(circuit_files['caseid'],circuit_files['term']):\n",
    "    path =  '/Users/shiv/Desktop/cleaned_Mar_28_python2/' + str(term) + '/maj/'+file+\"-maj.p\"\n",
    "    try:\n",
    "        with open(path, \"rb\") as f:\n",
    "            w = pickle.load(f)\n",
    "            pickle.dump(w, open('/Users/shiv/Desktop/circuit-scbd-mapped-files/'+file+'.p',\"wb\"), protocol=2)\n",
    "    except Exception as e:\n",
    "        count = count + 1\n",
    "        print e\n",
    "\n",
    "print count"
   ]
  }
 ],
 "metadata": {
  "hide_input": false,
  "kernelspec": {
   "display_name": "coding-env",
   "language": "python",
   "name": "gl-env"
  },
  "language_info": {
   "codemirror_mode": {
    "name": "ipython",
    "version": 2
   },
   "file_extension": ".py",
   "mimetype": "text/x-python",
   "name": "python",
   "nbconvert_exporter": "python",
   "pygments_lexer": "ipython2",
   "version": "2.7.13"
  },
  "toc": {
   "colors": {
    "hover_highlight": "#DAA520",
    "running_highlight": "#FF0000",
    "selected_highlight": "#FFD700"
   },
   "moveMenuLeft": true,
   "nav_menu": {
    "height": "12px",
    "width": "252px"
   },
   "navigate_menu": true,
   "number_sections": true,
   "sideBar": true,
   "threshold": 4,
   "toc_cell": false,
   "toc_section_display": "block",
   "toc_window_display": false
  }
 },
 "nbformat": 4,
 "nbformat_minor": 2
}
