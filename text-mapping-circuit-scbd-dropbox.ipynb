{
 "cells": [
  {
   "cell_type": "code",
   "execution_count": null,
   "metadata": {
    "ExecuteTime": {
     "end_time": "2017-04-09T03:19:43.695090",
     "start_time": "2017-04-08T23:19:43.690732-04:00"
    },
    "collapsed": false
   },
   "outputs": [],
   "source": [
    "import dropbox\n",
    "import pandas as pd\n",
    "import pickle\n",
    "import sys"
   ]
  },
  {
   "cell_type": "code",
   "execution_count": null,
   "metadata": {
    "ExecuteTime": {
     "end_time": "2017-04-09T03:20:00.252308",
     "start_time": "2017-04-08T23:19:45.384429-04:00"
    },
    "collapsed": false
   },
   "outputs": [],
   "source": [
    "# Include the Dropbox SDK\n",
    "\n",
    "# Get your app key and secret from the Dropbox developer website\n",
    "app_key = '72wskb63a1ayvce'\n",
    "app_secret = 'zi42jh8bgv7d392'\n",
    "\n",
    "flow = dropbox.client.DropboxOAuth2FlowNoRedirect(app_key, app_secret)\n",
    "\n",
    "# Have the user sign in and authorize this token\n",
    "authorize_url = flow.start()\n",
    "print '1. Go to: ' + authorize_url\n",
    "print '2. Click \"Allow\" (you might have to log in first)'\n",
    "print '3. Copy the authorization code.'\n",
    "code = raw_input(\"Enter the authorization code here: \").strip()\n",
    "\n",
    "# This will fail if the user enters an invalid authorization code\n",
    "access_token, user_id = flow.finish(code)\n",
    "\n",
    "client = dropbox.client.DropboxClient(access_token)\n",
    "print 'linked account: ', client.account_info()\n"
   ]
  },
  {
   "cell_type": "code",
   "execution_count": null,
   "metadata": {
    "ExecuteTime": {
     "end_time": "2017-04-09T03:20:01.959116",
     "start_time": "2017-04-08T23:20:01.952029-04:00"
    },
    "collapsed": false
   },
   "outputs": [],
   "source": [
    "access_token"
   ]
  },
  {
   "cell_type": "code",
   "execution_count": null,
   "metadata": {
    "ExecuteTime": {
     "end_time": "2017-04-09T03:20:04.499557",
     "start_time": "2017-04-08T23:20:04.494621-04:00"
    },
    "collapsed": true
   },
   "outputs": [],
   "source": [
    "dbx = dropbox.Dropbox(access_token)"
   ]
  },
  {
   "cell_type": "code",
   "execution_count": null,
   "metadata": {
    "ExecuteTime": {
     "end_time": "2017-04-08T22:01:59.878995",
     "start_time": "2017-04-08T18:01:58.412088-04:00"
    },
    "collapsed": false
   },
   "outputs": [],
   "source": [
    "f, metadata = client.get_file_and_metadata('/1880_complete/XALNA1.html')\n",
    "out = open('/Users/shiv/Desktop/magnum-opus.html', 'wb')\n",
    "out.write(f.read())\n",
    "out.close()\n",
    "print metadata"
   ]
  },
  {
   "cell_type": "code",
   "execution_count": null,
   "metadata": {
    "ExecuteTime": {
     "end_time": "2017-04-22T04:05:33.694334",
     "start_time": "2017-04-22T00:05:33.441733-04:00"
    },
    "collapsed": true
   },
   "outputs": [],
   "source": [
    "circuit_files = pd.read_csv('/Users/shiv/.bin/10_scotus/sc_lc_link.csv')"
   ]
  },
  {
   "cell_type": "code",
   "execution_count": null,
   "metadata": {
    "ExecuteTime": {
     "end_time": "2017-04-22T04:15:34.801950",
     "start_time": "2017-04-22T00:14:42.718919-04:00"
    },
    "collapsed": false
   },
   "outputs": [],
   "source": [
    "for file,term in zip(circuit_files['caseid'],circuit_files['term']):\n",
    "    path =  '/'+str(term)+'_complete/'+file+\".html\"\n",
    "    try:\n",
    "        f, metadata = client.get_file_and_metadata(path)\n",
    "        out = open('/Users/shiv/Desktop/circuit-scbd-mapped-files/'+file+'.html', 'wb')\n",
    "        out.write(f.read())\n",
    "        out.close()\n",
    "    except:\n",
    "        print path"
   ]
  }
 ],
 "metadata": {
  "hide_input": false,
  "kernelspec": {
   "display_name": "coding-env",
   "language": "python",
   "name": "gl-env"
  },
  "language_info": {
   "codemirror_mode": {
    "name": "ipython",
    "version": 2
   },
   "file_extension": ".py",
   "mimetype": "text/x-python",
   "name": "python",
   "nbconvert_exporter": "python",
   "pygments_lexer": "ipython2",
   "version": "2.7.13"
  },
  "toc": {
   "colors": {
    "hover_highlight": "#DAA520",
    "running_highlight": "#FF0000",
    "selected_highlight": "#FFD700"
   },
   "moveMenuLeft": true,
   "nav_menu": {
    "height": "12px",
    "width": "252px"
   },
   "navigate_menu": true,
   "number_sections": true,
   "sideBar": true,
   "threshold": 4,
   "toc_cell": false,
   "toc_section_display": "block",
   "toc_window_display": false
  }
 },
 "nbformat": 4,
 "nbformat_minor": 2
}
